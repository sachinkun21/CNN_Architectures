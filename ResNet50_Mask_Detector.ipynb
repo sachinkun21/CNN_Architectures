{
  "nbformat": 4,
  "nbformat_minor": 0,
  "metadata": {
    "colab": {
      "name": "ResNet50 Mask Detector.ipynb",
      "provenance": [],
      "collapsed_sections": [],
      "include_colab_link": true
    },
    "kernelspec": {
      "name": "python3",
      "display_name": "Python 3"
    },
    "accelerator": "GPU"
  },
  "cells": [
    {
      "cell_type": "markdown",
      "metadata": {
        "id": "view-in-github",
        "colab_type": "text"
      },
      "source": [
        "<a href=\"https://colab.research.google.com/github/sachinkun21/CNN_Architectures/blob/master/ResNet50_Mask_Detector.ipynb\" target=\"_parent\"><img src=\"https://colab.research.google.com/assets/colab-badge.svg\" alt=\"Open In Colab\"/></a>"
      ]
    },
    {
      "cell_type": "code",
      "metadata": {
        "id": "YfPINM3FinQm",
        "colab_type": "code",
        "colab": {
          "base_uri": "https://localhost:8080/",
          "height": 357
        },
        "outputId": "e63554e9-3f22-4fc3-f1ad-0c6392129403"
      },
      "source": [
        "!nvidia-smi"
      ],
      "execution_count": 1,
      "outputs": [
        {
          "output_type": "stream",
          "text": [
            "Wed Jul  8 16:53:55 2020       \n",
            "+-----------------------------------------------------------------------------+\n",
            "| NVIDIA-SMI 450.36.06    Driver Version: 418.67       CUDA Version: 10.1     |\n",
            "|-------------------------------+----------------------+----------------------+\n",
            "| GPU  Name        Persistence-M| Bus-Id        Disp.A | Volatile Uncorr. ECC |\n",
            "| Fan  Temp  Perf  Pwr:Usage/Cap|         Memory-Usage | GPU-Util  Compute M. |\n",
            "|                               |                      |               MIG M. |\n",
            "|===============================+======================+======================|\n",
            "|   0  Tesla P100-PCIE...  Off  | 00000000:00:04.0 Off |                    0 |\n",
            "| N/A   32C    P0    25W / 250W |      0MiB / 16280MiB |      0%      Default |\n",
            "|                               |                      |                 ERR! |\n",
            "+-------------------------------+----------------------+----------------------+\n",
            "                                                                               \n",
            "+-----------------------------------------------------------------------------+\n",
            "| Processes:                                                                  |\n",
            "|  GPU   GI   CI        PID   Type   Process name                  GPU Memory |\n",
            "|        ID   ID                                                   Usage      |\n",
            "|=============================================================================|\n",
            "|  No running processes found                                                 |\n",
            "+-----------------------------------------------------------------------------+\n"
          ],
          "name": "stdout"
        }
      ]
    },
    {
      "cell_type": "markdown",
      "metadata": {
        "id": "lJbKGOhRp4_i",
        "colab_type": "text"
      },
      "source": [
        "# Loading Dataset"
      ]
    },
    {
      "cell_type": "code",
      "metadata": {
        "id": "xn2GcEy_2-Mj",
        "colab_type": "code",
        "colab": {}
      },
      "source": [
        "data_dir =  '/content/drive/My Drive/DataScience/face-mask-detector/dataset/'"
      ],
      "execution_count": null,
      "outputs": []
    },
    {
      "cell_type": "code",
      "metadata": {
        "id": "eQHF43ACp5e8",
        "colab_type": "code",
        "colab": {
          "base_uri": "https://localhost:8080/",
          "height": 71
        },
        "outputId": "a7a31d8d-5e12-4f10-cf32-45992e9fa570"
      },
      "source": [
        "from imutils import paths\n",
        "import os\n",
        "\n",
        "# grab the list of images in our dataset directory, then initialize\n",
        "# the list of data (i.e., images) and class images\n",
        "image_paths = list(paths.list_images(data_dir))\n",
        "print(image_paths[:2])\n",
        "len(image_paths)"
      ],
      "execution_count": null,
      "outputs": [
        {
          "output_type": "stream",
          "text": [
            "['/content/drive/My Drive/DataScience/face-mask-detector/dataset/with_mask/336-with-mask.jpg', '/content/drive/My Drive/DataScience/face-mask-detector/dataset/with_mask/335-with-mask.jpg']\n"
          ],
          "name": "stdout"
        },
        {
          "output_type": "execute_result",
          "data": {
            "text/plain": [
              "1376"
            ]
          },
          "metadata": {
            "tags": []
          },
          "execution_count": 3
        }
      ]
    },
    {
      "cell_type": "code",
      "metadata": {
        "id": "Vc5duBUI80SW",
        "colab_type": "code",
        "colab": {
          "base_uri": "https://localhost:8080/",
          "height": 34
        },
        "outputId": "f7245a9f-b5ff-46ee-fab7-c0ce31574aac"
      },
      "source": [
        "from tensorflow.keras.applications.resnet50 import ResNet50, preprocess_input\n",
        "import tensorflow.keras as keras\n",
        "from tensorflow.keras.models import Model, Sequential\n",
        "from tensorflow.keras.layers import Input, UpSampling2D, Flatten, BatchNormalization, Dense, Dropout, GlobalAveragePooling2D\n",
        "from tensorflow.keras import optimizers\n",
        "from keras.datasets import cifar100\n",
        "import tensorflow as tf\n",
        "from keras.utils import np_utils\n",
        "import numpy as np\n",
        "import matplotlib.pyplot as plt\n",
        "import time\n",
        "from skimage.transform import resize\n",
        "from keras.applications.resnet50 import preprocess_input, decode_predictions\n",
        "from keras.preprocessing.image import ImageDataGenerator\n",
        "from tensorflow.keras.optimizers import Adam"
      ],
      "execution_count": null,
      "outputs": [
        {
          "output_type": "stream",
          "text": [
            "Using TensorFlow backend.\n"
          ],
          "name": "stderr"
        }
      ]
    },
    {
      "cell_type": "code",
      "metadata": {
        "id": "e4NTARpD3ME2",
        "colab_type": "code",
        "colab": {
          "base_uri": "https://localhost:8080/",
          "height": 34
        },
        "outputId": "5efa188d-03ce-4a9a-85d3-a46917757ee8"
      },
      "source": [
        "from tensorflow.keras.preprocessing.image import img_to_array\n",
        "from tensorflow.keras.preprocessing.image import load_img\n",
        "\n",
        "load_array = True\n",
        "if load_array!=True:\n",
        "  # global list to store Image arrays and Data\n",
        "  data = []\n",
        "  labels = []\n",
        "\n",
        "  i = 0\n",
        "  # loop over the image paths\n",
        "  for imagePath in image_paths:\n",
        "    # extract the class label from the filename\n",
        "    label = imagePath.split(os.path.sep)[-2]\n",
        "\n",
        "    #load the input image (224x224) and preprocess it\n",
        "    image = load_img(imagePath, target_size=(224, 224))\n",
        "    image = img_to_array(image)\n",
        "    image = preprocess_input(image)\n",
        "\n",
        "    # update the data and labels lists, respectively\n",
        "    i+=1\n",
        "    if i%50==0:\n",
        "      print(i,end = ' ')\n",
        "    data.append(image)\n",
        "    labels.append(label)\n",
        "\n",
        "\n",
        "  data[0],labels[0]\n",
        "else:\n",
        "  print('Loading from array')"
      ],
      "execution_count": null,
      "outputs": [
        {
          "output_type": "stream",
          "text": [
            "Loading from array\n"
          ],
          "name": "stdout"
        }
      ]
    },
    {
      "cell_type": "code",
      "metadata": {
        "id": "Ehw4wD534Zhv",
        "colab_type": "code",
        "colab": {}
      },
      "source": [
        "from sklearn.preprocessing import LabelBinarizer\n",
        "from sklearn.model_selection import train_test_split\n",
        "from tensorflow.keras.utils import to_categorical\n",
        "\n",
        "if load_array!=True:\n",
        "  # convert the data and labels to NumPy arrays\n",
        "  data = np.array(data, dtype=\"float32\")\n",
        "  labels = np.array(labels)\n",
        "\n",
        "  # perform one-hot encoding on the labels\n",
        "  lb = LabelBinarizer()\n",
        "  labels = lb.fit_transform(labels)\n",
        "  labels = to_categorical(labels)\n",
        "  print(labels[:5])"
      ],
      "execution_count": null,
      "outputs": []
    },
    {
      "cell_type": "markdown",
      "metadata": {
        "id": "UPgNwLlsIQVH",
        "colab_type": "text"
      },
      "source": [
        "### Save into array for future Use"
      ]
    },
    {
      "cell_type": "code",
      "metadata": {
        "id": "fv_yjGKwHs8R",
        "colab_type": "code",
        "colab": {}
      },
      "source": [
        "import numpy\n",
        "# save numpy array as npz file\n",
        "from numpy import asarray\n",
        "from numpy import savez_compressed\n",
        "\n",
        "if load_array!=True:\n",
        "  # save to npy file\n",
        "  savez_compressed('/content/drive/My Drive/DataScience/face-mask-detector/MaskData_X.npz', data)\n",
        "  # save to npy file\n",
        "  savez_compressed('/content/drive/My Drive/DataScience/face-mask-detector/NoMaskData_Y.npz', labels)"
      ],
      "execution_count": null,
      "outputs": []
    },
    {
      "cell_type": "code",
      "metadata": {
        "id": "M6MeeR-ZH-lY",
        "colab_type": "code",
        "colab": {
          "base_uri": "https://localhost:8080/",
          "height": 34
        },
        "outputId": "e34789e0-4c29-4035-d354-5d5c109c12a9"
      },
      "source": [
        "# load numpy array from npz file\n",
        "from numpy import load\n",
        "\n",
        "# load dict of arrays\n",
        "dict_data_X = load('/content/drive/My Drive/DataScience/face-mask-detector/MaskData_X.npz')\n",
        "dict_data_Y = load('/content/drive/My Drive/DataScience/face-mask-detector/NoMaskData_Y.npz')\n",
        "\n",
        "# extract the first array\n",
        "data,labels = dict_data_X['arr_0'], dict_data_Y['arr_0']\n",
        "\n",
        "# print the array shape\n",
        "print(data.shape,labels.shape)"
      ],
      "execution_count": null,
      "outputs": [
        {
          "output_type": "stream",
          "text": [
            "(1376, 224, 224, 3) (1376, 2)\n"
          ],
          "name": "stdout"
        }
      ]
    },
    {
      "cell_type": "markdown",
      "metadata": {
        "id": "tDlTQl8v6SP_",
        "colab_type": "text"
      },
      "source": [
        ""
      ]
    },
    {
      "cell_type": "code",
      "metadata": {
        "id": "TAuPNylg6Srl",
        "colab_type": "code",
        "colab": {}
      },
      "source": [
        "# Dividing data into training and testing splits using 80% to 20% ratio\n",
        "X_train, X_test, y_train, y_test = train_test_split(data, labels, test_size=0.20, stratify=labels, random_state=42)\n",
        "\n",
        "# construct the training image generator for data augmentation\n",
        "augmentor = ImageDataGenerator(\n",
        "\trotation_range=20,\n",
        "\tzoom_range=0.15,\n",
        "\twidth_shift_range=0.2,\n",
        "\theight_shift_range=0.2,\n",
        "\tshear_range=0.15,\n",
        "\thorizontal_flip=True,\n",
        "\tfill_mode=\"nearest\")"
      ],
      "execution_count": null,
      "outputs": []
    },
    {
      "cell_type": "code",
      "metadata": {
        "id": "Yd_U39rNrt0y",
        "colab_type": "code",
        "colab": {
          "base_uri": "https://localhost:8080/",
          "height": 34
        },
        "outputId": "0cb6875a-b9f4-40e4-c84d-4d3a6baf56ca"
      },
      "source": [
        "len(X_train),len(X_test)"
      ],
      "execution_count": null,
      "outputs": [
        {
          "output_type": "execute_result",
          "data": {
            "text/plain": [
              "(1100, 276)"
            ]
          },
          "metadata": {
            "tags": []
          },
          "execution_count": 10
        }
      ]
    },
    {
      "cell_type": "code",
      "metadata": {
        "id": "lqi91XkrqAf_",
        "colab_type": "code",
        "colab": {
          "base_uri": "https://localhost:8080/",
          "height": 34
        },
        "outputId": "b6f4a954-7cf9-450a-92a6-682b52d65e7f"
      },
      "source": [
        "X_train[0].shape,y_train[0].shape"
      ],
      "execution_count": null,
      "outputs": [
        {
          "output_type": "execute_result",
          "data": {
            "text/plain": [
              "((224, 224, 3), (2,))"
            ]
          },
          "metadata": {
            "tags": []
          },
          "execution_count": 11
        }
      ]
    },
    {
      "cell_type": "markdown",
      "metadata": {
        "id": "iGokKpoOsPsC",
        "colab_type": "text"
      },
      "source": [
        "### Setting Learning ratem number of Epochs, batch_size"
      ]
    },
    {
      "cell_type": "code",
      "metadata": {
        "id": "mDSirVRMtj9a",
        "colab_type": "code",
        "colab": {}
      },
      "source": [
        "# initialize the initial learning rate, number of epochs to train for,and batch size\n",
        "init_lr = 0.001\n",
        "epochs = 50\n",
        "batch_size = 64"
      ],
      "execution_count": null,
      "outputs": []
    },
    {
      "cell_type": "markdown",
      "metadata": {
        "id": "o-9i9V9su1Ax",
        "colab_type": "text"
      },
      "source": [
        "## Data Load, Augmentation and Preprocessing Code"
      ]
    },
    {
      "cell_type": "code",
      "metadata": {
        "id": "CUNG-FbEvaFv",
        "colab_type": "code",
        "colab": {}
      },
      "source": [
        "# data_dir =  '/content/drive/My Drive/DataScience/face-mask-detector/dataset/small'"
      ],
      "execution_count": null,
      "outputs": []
    },
    {
      "cell_type": "code",
      "metadata": {
        "id": "Xfc7GLmVt3dT",
        "colab_type": "code",
        "colab": {}
      },
      "source": [
        "# train_datagen = ImageDataGenerator(rescale=1./255, shear_range = 0.2,zoom_range=0.1, horizontal_flip=True,rotation_range=20,width_shift_range=0.2, height_shift_range=0.2)\n",
        "# test_datagen = ImageDataGenerator(rescale=1./255)"
      ],
      "execution_count": null,
      "outputs": []
    },
    {
      "cell_type": "code",
      "metadata": {
        "id": "ZZYCfv1Ku-6T",
        "colab_type": "code",
        "colab": {}
      },
      "source": [
        "# training_set = train_datagen.flow_from_directory(data_dir,batch_size = batch_size, class_mode='binary')\n",
        "# test_set = test_datagen.flow_from_directory(data_dir,batch_size = batch_size, class_mode='binary')"
      ],
      "execution_count": null,
      "outputs": []
    },
    {
      "cell_type": "markdown",
      "metadata": {
        "id": "sY7aJ8c5wt7B",
        "colab_type": "text"
      },
      "source": [
        "## Model: Resnet 50"
      ]
    },
    {
      "cell_type": "code",
      "metadata": {
        "id": "BbmdH_uywlIt",
        "colab_type": "code",
        "colab": {}
      },
      "source": [
        "resnet_model = ResNet50(weights='imagenet', include_top=False, input_shape=(224,224, 3))\n",
        "\n",
        "# loop over all layers in the base model and freeze them so they will\n",
        "# not be updated during the first training process apart from batch_norm layers\n",
        "for layer in resnet_model.layers:\n",
        "    if isinstance(layer, BatchNormalization):\n",
        "        layer.trainable = True\n",
        "    else:\n",
        "        layer.trainable = False\n",
        "\n",
        "headModel = resnet_model.output\n",
        "headModel = GlobalAveragePooling2D()(headModel)\n",
        "headModel = Flatten(name=\"flatten\")(headModel)\n",
        "headModel = Dense(256, activation=\"relu\")(headModel)\n",
        "headModel = Dropout(0.5)(headModel)\n",
        "headModel = Dense(2, activation=\"softmax\")(headModel)"
      ],
      "execution_count": null,
      "outputs": []
    },
    {
      "cell_type": "code",
      "metadata": {
        "id": "LLEzpP5kDHJF",
        "colab_type": "code",
        "colab": {}
      },
      "source": [
        "# place the head FC model on top of the base model (this will become the actual model we will train)\n",
        "model = Model(inputs=resnet_model.input, outputs=headModel)"
      ],
      "execution_count": null,
      "outputs": []
    },
    {
      "cell_type": "code",
      "metadata": {
        "id": "6B7Tk3mOyHkJ",
        "colab_type": "code",
        "colab": {}
      },
      "source": [
        "# compile our model\n",
        "opt = Adam(lr=init_lr, decay=init_lr / epochs)\n",
        "model.compile(loss=\"binary_crossentropy\", optimizer=opt, metrics=[\"accuracy\"])"
      ],
      "execution_count": null,
      "outputs": []
    },
    {
      "cell_type": "code",
      "metadata": {
        "id": "mL0DJu0yxfdB",
        "colab_type": "code",
        "colab": {
          "base_uri": "https://localhost:8080/",
          "height": 1000
        },
        "outputId": "f54da4e7-d222-4149-daf0-c3cef738c6b8"
      },
      "source": [
        "history = model.fit(\n",
        "\taugmentor.flow(X_train, y_train, batch_size=batch_size),\n",
        "\tsteps_per_epoch=len(X_train) // batch_size,\n",
        "\tvalidation_data=(X_test, y_test),\n",
        "\tvalidation_steps=len(X_test) // batch_size,\n",
        "\tepochs=epochs)"
      ],
      "execution_count": null,
      "outputs": [
        {
          "output_type": "stream",
          "text": [
            "Epoch 1/50\n",
            "17/17 [==============================] - 12s 716ms/step - loss: 0.5626 - accuracy: 0.7925 - val_loss: 0.0329 - val_accuracy: 0.9964\n",
            "Epoch 2/50\n",
            "17/17 [==============================] - 11s 652ms/step - loss: 0.0795 - accuracy: 0.9681 - val_loss: 0.0459 - val_accuracy: 0.9855\n",
            "Epoch 3/50\n",
            "17/17 [==============================] - 11s 648ms/step - loss: 0.0400 - accuracy: 0.9846 - val_loss: 0.0274 - val_accuracy: 0.9928\n",
            "Epoch 4/50\n",
            "17/17 [==============================] - 11s 648ms/step - loss: 0.0286 - accuracy: 0.9894 - val_loss: 0.0135 - val_accuracy: 0.9964\n",
            "Epoch 5/50\n",
            "17/17 [==============================] - 11s 652ms/step - loss: 0.0123 - accuracy: 0.9961 - val_loss: 0.0102 - val_accuracy: 0.9964\n",
            "Epoch 6/50\n",
            "17/17 [==============================] - 11s 650ms/step - loss: 0.0171 - accuracy: 0.9932 - val_loss: 0.0212 - val_accuracy: 0.9964\n",
            "Epoch 7/50\n",
            "17/17 [==============================] - 11s 653ms/step - loss: 0.0100 - accuracy: 0.9971 - val_loss: 0.0097 - val_accuracy: 0.9964\n",
            "Epoch 8/50\n",
            "17/17 [==============================] - 11s 652ms/step - loss: 0.0326 - accuracy: 0.9884 - val_loss: 0.0369 - val_accuracy: 0.9928\n",
            "Epoch 9/50\n",
            "17/17 [==============================] - 12s 685ms/step - loss: 0.0151 - accuracy: 0.9952 - val_loss: 0.0087 - val_accuracy: 0.9964\n",
            "Epoch 10/50\n",
            "17/17 [==============================] - 12s 684ms/step - loss: 0.0067 - accuracy: 0.9972 - val_loss: 0.0103 - val_accuracy: 0.9964\n",
            "Epoch 11/50\n",
            "17/17 [==============================] - 11s 651ms/step - loss: 0.0059 - accuracy: 0.9981 - val_loss: 0.0154 - val_accuracy: 0.9964\n",
            "Epoch 12/50\n",
            "17/17 [==============================] - 11s 643ms/step - loss: 0.0065 - accuracy: 0.9981 - val_loss: 0.0089 - val_accuracy: 0.9964\n",
            "Epoch 13/50\n",
            "17/17 [==============================] - 11s 652ms/step - loss: 0.0038 - accuracy: 0.9990 - val_loss: 0.0083 - val_accuracy: 0.9964\n",
            "Epoch 14/50\n",
            "17/17 [==============================] - 11s 649ms/step - loss: 0.0024 - accuracy: 0.9990 - val_loss: 0.0073 - val_accuracy: 0.9964\n",
            "Epoch 15/50\n",
            "17/17 [==============================] - 11s 672ms/step - loss: 0.0029 - accuracy: 0.9991 - val_loss: 0.0047 - val_accuracy: 1.0000\n",
            "Epoch 16/50\n",
            "17/17 [==============================] - 11s 644ms/step - loss: 0.0016 - accuracy: 1.0000 - val_loss: 0.0082 - val_accuracy: 0.9964\n",
            "Epoch 17/50\n",
            "17/17 [==============================] - 11s 647ms/step - loss: 0.0030 - accuracy: 0.9990 - val_loss: 0.0057 - val_accuracy: 0.9964\n",
            "Epoch 18/50\n",
            "17/17 [==============================] - 11s 640ms/step - loss: 0.0110 - accuracy: 0.9923 - val_loss: 0.0115 - val_accuracy: 0.9964\n",
            "Epoch 19/50\n",
            "17/17 [==============================] - 11s 645ms/step - loss: 8.5482e-04 - accuracy: 1.0000 - val_loss: 0.0111 - val_accuracy: 0.9964\n",
            "Epoch 20/50\n",
            "17/17 [==============================] - 11s 652ms/step - loss: 0.0132 - accuracy: 0.9971 - val_loss: 0.0019 - val_accuracy: 1.0000\n",
            "Epoch 21/50\n",
            "17/17 [==============================] - 11s 647ms/step - loss: 0.0032 - accuracy: 0.9990 - val_loss: 0.0022 - val_accuracy: 1.0000\n",
            "Epoch 22/50\n",
            "17/17 [==============================] - 11s 645ms/step - loss: 7.5731e-04 - accuracy: 1.0000 - val_loss: 0.0019 - val_accuracy: 1.0000\n",
            "Epoch 23/50\n",
            "17/17 [==============================] - 11s 641ms/step - loss: 0.0042 - accuracy: 0.9981 - val_loss: 0.0024 - val_accuracy: 1.0000\n",
            "Epoch 24/50\n",
            "17/17 [==============================] - 11s 646ms/step - loss: 0.0081 - accuracy: 0.9971 - val_loss: 0.0012 - val_accuracy: 1.0000\n",
            "Epoch 25/50\n",
            "17/17 [==============================] - 11s 646ms/step - loss: 0.0028 - accuracy: 0.9990 - val_loss: 0.0034 - val_accuracy: 0.9964\n",
            "Epoch 26/50\n",
            "17/17 [==============================] - 11s 649ms/step - loss: 0.0054 - accuracy: 0.9981 - val_loss: 0.0044 - val_accuracy: 1.0000\n",
            "Epoch 27/50\n",
            "17/17 [==============================] - 11s 652ms/step - loss: 0.0103 - accuracy: 0.9961 - val_loss: 3.5634e-04 - val_accuracy: 1.0000\n",
            "Epoch 28/50\n",
            "17/17 [==============================] - 11s 646ms/step - loss: 0.0105 - accuracy: 0.9961 - val_loss: 5.2048e-04 - val_accuracy: 1.0000\n",
            "Epoch 29/50\n",
            "17/17 [==============================] - 11s 647ms/step - loss: 0.0060 - accuracy: 0.9981 - val_loss: 9.4083e-04 - val_accuracy: 1.0000\n",
            "Epoch 30/50\n",
            "17/17 [==============================] - 11s 649ms/step - loss: 0.0019 - accuracy: 0.9990 - val_loss: 6.2346e-04 - val_accuracy: 1.0000\n",
            "Epoch 31/50\n",
            "17/17 [==============================] - 11s 647ms/step - loss: 8.6117e-04 - accuracy: 1.0000 - val_loss: 0.0022 - val_accuracy: 1.0000\n",
            "Epoch 32/50\n",
            "17/17 [==============================] - 11s 640ms/step - loss: 0.0046 - accuracy: 0.9971 - val_loss: 0.0015 - val_accuracy: 1.0000\n",
            "Epoch 33/50\n",
            "17/17 [==============================] - 11s 649ms/step - loss: 4.3504e-04 - accuracy: 1.0000 - val_loss: 9.2291e-04 - val_accuracy: 1.0000\n",
            "Epoch 34/50\n",
            "17/17 [==============================] - 11s 649ms/step - loss: 0.0011 - accuracy: 0.9990 - val_loss: 9.1444e-04 - val_accuracy: 1.0000\n",
            "Epoch 35/50\n",
            "17/17 [==============================] - 11s 646ms/step - loss: 0.0067 - accuracy: 0.9990 - val_loss: 6.7038e-04 - val_accuracy: 1.0000\n",
            "Epoch 36/50\n",
            "17/17 [==============================] - 11s 656ms/step - loss: 0.0023 - accuracy: 0.9990 - val_loss: 0.0029 - val_accuracy: 0.9964\n",
            "Epoch 37/50\n",
            "17/17 [==============================] - 11s 648ms/step - loss: 2.2721e-04 - accuracy: 1.0000 - val_loss: 8.2664e-04 - val_accuracy: 1.0000\n",
            "Epoch 38/50\n",
            "17/17 [==============================] - 11s 645ms/step - loss: 0.0023 - accuracy: 0.9990 - val_loss: 8.8328e-04 - val_accuracy: 1.0000\n",
            "Epoch 39/50\n",
            "17/17 [==============================] - 11s 643ms/step - loss: 2.5400e-04 - accuracy: 1.0000 - val_loss: 0.0012 - val_accuracy: 1.0000\n",
            "Epoch 40/50\n",
            "17/17 [==============================] - 11s 656ms/step - loss: 3.3867e-04 - accuracy: 1.0000 - val_loss: 0.0015 - val_accuracy: 1.0000\n",
            "Epoch 41/50\n",
            "17/17 [==============================] - 11s 637ms/step - loss: 3.3015e-04 - accuracy: 1.0000 - val_loss: 0.0024 - val_accuracy: 1.0000\n",
            "Epoch 42/50\n",
            "17/17 [==============================] - 11s 643ms/step - loss: 0.0031 - accuracy: 0.9990 - val_loss: 0.0026 - val_accuracy: 1.0000\n",
            "Epoch 43/50\n",
            "17/17 [==============================] - 11s 642ms/step - loss: 2.7774e-04 - accuracy: 1.0000 - val_loss: 0.0012 - val_accuracy: 1.0000\n",
            "Epoch 44/50\n",
            "17/17 [==============================] - 12s 680ms/step - loss: 0.0060 - accuracy: 0.9981 - val_loss: 0.0032 - val_accuracy: 0.9964\n",
            "Epoch 45/50\n",
            "17/17 [==============================] - 11s 647ms/step - loss: 2.3462e-04 - accuracy: 1.0000 - val_loss: 0.0094 - val_accuracy: 0.9964\n",
            "Epoch 46/50\n",
            "17/17 [==============================] - 11s 646ms/step - loss: 0.0072 - accuracy: 0.9961 - val_loss: 0.0326 - val_accuracy: 0.9819\n",
            "Epoch 47/50\n",
            "17/17 [==============================] - 11s 644ms/step - loss: 0.0020 - accuracy: 0.9990 - val_loss: 0.0031 - val_accuracy: 0.9964\n",
            "Epoch 48/50\n",
            "17/17 [==============================] - 11s 644ms/step - loss: 4.9348e-04 - accuracy: 1.0000 - val_loss: 0.0012 - val_accuracy: 1.0000\n",
            "Epoch 49/50\n",
            "17/17 [==============================] - 11s 641ms/step - loss: 3.2287e-04 - accuracy: 1.0000 - val_loss: 0.0011 - val_accuracy: 1.0000\n",
            "Epoch 50/50\n",
            "17/17 [==============================] - 12s 680ms/step - loss: 5.2473e-04 - accuracy: 1.0000 - val_loss: 7.4240e-04 - val_accuracy: 1.0000\n"
          ],
          "name": "stdout"
        }
      ]
    },
    {
      "cell_type": "code",
      "metadata": {
        "id": "goA55HUAzrN2",
        "colab_type": "code",
        "colab": {}
      },
      "source": [
        "# serialize the model to disk\n",
        "model.save('/content/drive/My Drive/DataScience/face-mask-detector/res_mask.h5', save_format=\"h5\")"
      ],
      "execution_count": null,
      "outputs": []
    },
    {
      "cell_type": "code",
      "metadata": {
        "id": "aHJY4-r3ziBS",
        "colab_type": "code",
        "colab": {
          "base_uri": "https://localhost:8080/",
          "height": 425
        },
        "outputId": "8b98b2db-ddb4-410c-b3cd-107ad61b49ff"
      },
      "source": [
        "# plot the training loss and accuracy\n",
        "N = epochs\n",
        "plt.style.use(\"ggplot\")\n",
        "plt.figure(figsize=(10,6))\n",
        "plt.plot(np.arange(0, N), history.history[\"loss\"], label=\"train_loss\")\n",
        "plt.plot(np.arange(0, N), history.history[\"val_loss\"], label=\"val_loss\")\n",
        "plt.plot(np.arange(0, N), history.history[\"accuracy\"], label=\"train_acc\")\n",
        "plt.plot(np.arange(0, N), history.history[\"val_accuracy\"], label=\"val_acc\")\n",
        "plt.title(\"Training Loss and Accuracy\")\n",
        "plt.xlabel(\"Epoch #\")\n",
        "plt.ylabel(\"Loss/Accuracy\")\n",
        "plt.legend(loc=\"lower left\")"
      ],
      "execution_count": null,
      "outputs": [
        {
          "output_type": "execute_result",
          "data": {
            "text/plain": [
              "<matplotlib.legend.Legend at 0x7f69ed087c18>"
            ]
          },
          "metadata": {
            "tags": []
          },
          "execution_count": 25
        },
        {
          "output_type": "display_data",
          "data": {
            "image/png": "[encoded data removed]",
            "text/plain": [
              "<Figure size 720x432 with 1 Axes>"
            ]
          },
          "metadata": {
            "tags": []
          }
        }
      ]
    },
    {
      "cell_type": "code",
      "metadata": {
        "id": "430NjfChsTo3",
        "colab_type": "code",
        "colab": {
          "base_uri": "https://localhost:8080/",
          "height": 170
        },
        "outputId": "8f9c604a-c60a-44ba-c4c6-332480274b56"
      },
      "source": [
        "# make predictions on the testing set\n",
        "from sklearn.metrics import classification_report\n",
        "\n",
        "predIdxs = model.predict(X_test, batch_size=batch_size)\n",
        "\n",
        "# for each image in the testing set we need to find the index of the\n",
        "# label with corresponding largest predicted probability\n",
        "predIdxs = np.argmax(predIdxs, axis=1)\n",
        "\n",
        "# show a nicely formatted classification report\n",
        "print(classification_report(y_test.argmax(axis=1), predIdxs,target_names=['Mask', 'No Mask']))"
      ],
      "execution_count": null,
      "outputs": [
        {
          "output_type": "stream",
          "text": [
            "              precision    recall  f1-score   support\n",
            "\n",
            "        Mask       1.00      1.00      1.00       138\n",
            "     No Mask       1.00      1.00      1.00       138\n",
            "\n",
            "    accuracy                           1.00       276\n",
            "   macro avg       1.00      1.00      1.00       276\n",
            "weighted avg       1.00      1.00      1.00       276\n",
            "\n"
          ],
          "name": "stdout"
        }
      ]
    },
    {
      "cell_type": "markdown",
      "metadata": {
        "id": "ghcWG3q6RNKI",
        "colab_type": "text"
      },
      "source": [
        "CheckPoint Strategy:"
      ]
    },
    {
      "cell_type": "code",
      "metadata": {
        "id": "_VygQLYZskZF",
        "colab_type": "code",
        "colab": {}
      },
      "source": [
        "from keras.callbacks import ModelCheckpoint, LearningRateScheduler\n",
        "\n",
        "checkpoint = ModelCheckpoint(filepath='mymodel.h5', \n",
        "                               verbose=1, save_best_only=True)\n",
        "t=time.time()\n",
        "\n",
        "historytemp = model.fit_generator(datagen.flow(x_train, y_train,\n",
        "                                  batch_size=1),\n",
        "                                  steps_per_epoch=1,\n",
        "                                  epochs=1,\n",
        "                                  validation_data=(x_test, y_test))\n",
        "print('Training time: %s' % (t - time.time()))"
      ],
      "execution_count": null,
      "outputs": []
    }
  ]
}